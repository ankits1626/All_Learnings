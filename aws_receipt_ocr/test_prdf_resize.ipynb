{
 "cells": [
  {
   "cell_type": "code",
   "execution_count": null,
   "metadata": {},
   "outputs": [],
   "source": [
    "import PyPDF2\n",
    "import io\n",
    "from PIL import Image\n",
    "from IPython.display import display\n",
    "\n",
    "from pdf2image import convert_from_path\n",
    "\n",
    "def convert_pdf_to_images(pdf_path):\n",
    "    images = convert_from_path(pdf_path)\n",
    "    for i, img in enumerate(images):\n",
    "        display(img)   # Display the image\n",
    "        img.save(f'output_page_{i}.jpg', 'JPEG')\n",
    "\n",
    "\n",
    "def extract_images_from_pdf(pdf_path):\n",
    "    input_pdf = PyPDF2.PdfFileReader(open(pdf_path, \"rb\"))\n",
    "\n",
    "    for page_num in range(input_pdf.getNumPages()):\n",
    "        page = input_pdf.getPage(page_num)\n",
    "        \n",
    "        if '/Resources' in page and '/XObject' in page['/Resources']:\n",
    "            xobjects = page['/Resources']['/XObject'].getObject()\n",
    "            for obj in xobjects:\n",
    "                xobj = xobjects[obj]\n",
    "                if xobj['/Subtype'] == '/Image':\n",
    "                    try:\n",
    "                        img_data = xobj.getData()\n",
    "                        \n",
    "                        # Analyze the first few bytes of the image data\n",
    "                        print(f\"Image {obj} on page {page_num} first 10 bytes: {img_data[:10]}\")\n",
    "                        \n",
    "                        img = Image.open(io.BytesIO(img_data))\n",
    "                        display(img)  # Display the image within the notebook\n",
    "                        print(f\"Image {obj} on page {page_num} extracted successfully.\")\n",
    "                    except Exception as e:\n",
    "                        print(f\"Failed to extract image {obj} on page {page_num}: {e}\")\n"
   ]
  },
  {
   "cell_type": "code",
   "execution_count": 29,
   "metadata": {},
   "outputs": [
    {
     "name": "stdout",
     "output_type": "stream",
     "text": [
      "Collecting img2pdf\n",
      "  Downloading img2pdf-0.5.1.tar.gz (104 kB)\n",
      "\u001b[2K     \u001b[90m━━━━━━━━━━━━━━━━━━━━━━━━━━━━━━━━━━━━━━━\u001b[0m \u001b[32m104.2/104.2 kB\u001b[0m \u001b[31m4.3 MB/s\u001b[0m eta \u001b[36m0:00:00\u001b[0m\n",
      "\u001b[?25h  Preparing metadata (setup.py) ... \u001b[?25ldone\n",
      "\u001b[?25hRequirement already satisfied: Pillow in /opt/anaconda3/envs/innovation/lib/python3.8/site-packages (from img2pdf) (10.4.0)\n",
      "Requirement already satisfied: pikepdf in /opt/anaconda3/envs/innovation/lib/python3.8/site-packages (from img2pdf) (9.1.1)\n",
      "Requirement already satisfied: Deprecated in /opt/anaconda3/envs/innovation/lib/python3.8/site-packages (from pikepdf->img2pdf) (1.2.14)\n",
      "Requirement already satisfied: lxml>=4.8 in /opt/anaconda3/envs/innovation/lib/python3.8/site-packages (from pikepdf->img2pdf) (5.2.2)\n",
      "Requirement already satisfied: packaging in /opt/anaconda3/envs/innovation/lib/python3.8/site-packages (from pikepdf->img2pdf) (24.1)\n",
      "Requirement already satisfied: wrapt<2,>=1.10 in /opt/anaconda3/envs/innovation/lib/python3.8/site-packages (from Deprecated->pikepdf->img2pdf) (1.16.0)\n",
      "Building wheels for collected packages: img2pdf\n",
      "  Building wheel for img2pdf (setup.py) ... \u001b[?25ldone\n",
      "\u001b[?25h  Created wheel for img2pdf: filename=img2pdf-0.5.1-py3-none-any.whl size=49277 sha256=b533abcd3c0dcd03e920bb8dfd1bf097e5f3b067a9d5d205aa4e0b0dbd570d51\n",
      "  Stored in directory: /Users/ankit/Library/Caches/pip/wheels/31/82/cb/7acc5b35f17889ff58f207f8f4379d34029fa36473411d0eb7\n",
      "Successfully built img2pdf\n",
      "Installing collected packages: img2pdf\n",
      "Successfully installed img2pdf-0.5.1\n"
     ]
    }
   ],
   "source": [
    "!pip install img2pdf"
   ]
  },
  {
   "cell_type": "code",
   "execution_count": 32,
   "metadata": {},
   "outputs": [
    {
     "ename": "SyntaxError",
     "evalue": "invalid syntax (3473184293.py, line 1)",
     "output_type": "error",
     "traceback": [
      "\u001b[0;36m  Cell \u001b[0;32mIn[32], line 1\u001b[0;36m\u001b[0m\n\u001b[0;31m    c3     mKLZZ\u001b[0m\n\u001b[0m           ^\u001b[0m\n\u001b[0;31mSyntaxError\u001b[0m\u001b[0;31m:\u001b[0m invalid syntax\n"
     ]
    }
   ],
   "source": [
    "import fitz  # PyMuPDF\n",
    "from PIL import Image\n",
    "from io import BytesIO\n",
    "import PyPDF2\n",
    "from pdf2image import convert_from_path\n",
    "import os\n",
    "import img2pdf\n",
    "\n",
    "def compress_pdf(input_pdf_path, output_pdf_path, max_size=5 * 1024 * 1024):\n",
    "    images = convert_from_path(input_pdf_path, first_page=0, last_page=1)\n",
    "\n",
    "    # The first page is now stored as an image in `images[0]`\n",
    "    image = images[0]\n",
    "\n",
    "    # Step 2: Check the size of the image and resize if necessary\n",
    "    output_image_path = \"first_page_image.jpg\"\n",
    "    image.save(output_image_path, \"JPEG\")\n",
    "\n",
    "    # Get the size of the image\n",
    "    image_size = os.path.getsize(output_image_path)\n",
    "\n",
    "    # Resize the image if it exceeds 5 MB\n",
    "    max_size = 5 * 1024 * 1024  # 5 MB\n",
    "    if image_size > max_size:\n",
    "        # Reduce the image size while keeping the aspect ratio\n",
    "        image.thumbnail((image.width // 2, image.height // 2))\n",
    "        image.save(output_image_path, \"JPEG\")\n",
    "\n",
    "    # Step 3: Convert the image back to a PDF\n",
    "    with open(output_pdf_path, \"wb\") as f:\n",
    "        f.write(img2pdf.convert(output_image_path))\n",
    "\n",
    "    # Clean up the temporary image file\n",
    "    os.remove(output_image_path)\n",
    "\n",
    "    print(f\"First page saved as {output_pdf_path}\")"
   ]
  },
  {
   "cell_type": "code",
   "execution_count": 15,
   "metadata": {},
   "outputs": [],
   "source": [
    "import os \n",
    "def compress_pdf(input_pdf_path, output_pdf_path):\n",
    "    os.system(f'gs -sDEVICE=pdfwrite -dCompatibilityLevel=1.4 -dPDFSETTINGS=/screen -dNOPAUSE -dQUIET -dBATCH -sOutputFile={output_pdf_path} {input_pdf_path}')\n"
   ]
  },
  {
   "cell_type": "code",
   "execution_count": 2,
   "metadata": {},
   "outputs": [],
   "source": [
    "def compress_pdf(input_pdf_path, output_pdf_path):\n",
    "    os.system(f'qpdf --linearize {input_pdf_path} {output_pdf_path}')"
   ]
  },
  {
   "cell_type": "code",
   "execution_count": 31,
   "metadata": {},
   "outputs": [
    {
     "name": "stdout",
     "output_type": "stream",
     "text": [
      "First page saved as test_fitz.pdf\n"
     ]
    }
   ],
   "source": [
    "compress_pdf('/Users/ankit/code/backend/media/attachment/1685007607.pdf', 'test_fitz.pdf')"
   ]
  },
  {
   "cell_type": "code",
   "execution_count": null,
   "metadata": {},
   "outputs": [],
   "source": [
    "convert_pdf_to_images('/Users/ankit/code/backend/media/receipt_draft/2024/August/12/b23ed1a4-b56a-483c-9cfe-df56f079c2f9/97.pdf')"
   ]
  }
 ],
 "metadata": {
  "kernelspec": {
   "display_name": "ml38",
   "language": "python",
   "name": "python3"
  },
  "language_info": {
   "codemirror_mode": {
    "name": "ipython",
    "version": 3
   },
   "file_extension": ".py",
   "mimetype": "text/x-python",
   "name": "python",
   "nbconvert_exporter": "python",
   "pygments_lexer": "ipython3",
   "version": "3.8.19"
  }
 },
 "nbformat": 4,
 "nbformat_minor": 2
}
